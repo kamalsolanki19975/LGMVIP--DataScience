{
 "cells": [
  {
   "cell_type": "code",
   "execution_count": null,
   "metadata": {},
   "outputs": [],
   "source": [
    "#Importing Packages\n",
    "import cv2\n",
    "import numpy as np\n",
    "import plotly.express as px"
   ]
  },
  {
   "cell_type": "code",
   "execution_count": null,
   "metadata": {},
   "outputs": [],
   "source": [
    "#Loading Images\n",
    "img = cv2.imread(\"./image/butterfly.png\")\n",
    "img = cv2.cvtColor(img,cv2.COLOR_BGR2RGB)\n",
    "#img = cv2.imshow('New Image', img)\n",
    "imgs=px.imshow(img)\n",
    "#imgs.update_layout(width=990, height=600 ,margin=dict(l=20, r=20, b=10, t=10))\n",
    "imgs.update_xaxes(showticklabels=False).update_yaxes(showticklabels=False)\n",
    "imgs.show()"
   ]
  },
  {
   "cell_type": "code",
   "execution_count": null,
   "metadata": {},
   "outputs": [],
   "source": [
    "#Resizing image shape\n",
    "scale_percent = 0.60\n",
    "width = int(img.shape[1]*scale_percent)\n",
    "height = int(img.shape[0]*scale_percent)\n",
    "dim = (width,height)\n",
    "resized = cv2.resize(img,dim,interpolation = cv2.INTER_AREA)\n",
    "res=px.imshow(resized)\n",
    "res.update_xaxes(showticklabels=False).update_yaxes(showticklabels=False)\n",
    "res.show()"
   ]
  },
  {
   "cell_type": "code",
   "execution_count": null,
   "metadata": {},
   "outputs": [],
   "source": [
    "#Sharpening Image\n",
    "kernel_sharpening = np.array([[-1,-1,-1], \n",
    "                              [-1, 9,-1],\n",
    "                              [-1,-1,-1]])\n",
    "sharpened = cv2.filter2D(resized,-1,kernel_sharpening)\n",
    "sharp=px.imshow(sharpened)\n",
    "sharp.update_xaxes(showticklabels=False).update_yaxes(showticklabels=False)\n",
    "sharp.show()"
   ]
  },
  {
   "cell_type": "code",
   "execution_count": null,
   "metadata": {},
   "outputs": [],
   "source": [
    "#Converting an image into gray_scale image\n",
    "grayscale = cv2.cvtColor(sharpened , cv2.COLOR_BGR2GRAY)\n",
    "gray = px.imshow(grayscale, color_continuous_scale='gray')\n",
    "gray.update_xaxes(showticklabels=False).update_yaxes(showticklabels=False)\n",
    "gray.show()"
   ]
  },
  {
   "cell_type": "code",
   "execution_count": null,
   "metadata": {},
   "outputs": [],
   "source": [
    "#Inverting the image\n",
    "invs = 255-grayscale\n",
    "inv=px.imshow(invs,color_continuous_scale='gray')\n",
    "inv.update_xaxes(showticklabels=False).update_yaxes(showticklabels=False)\n",
    "inv.show()"
   ]
  },
  {
   "cell_type": "code",
   "execution_count": null,
   "metadata": {},
   "outputs": [],
   "source": [
    "#Smoothing the image\n",
    "gauss = cv2.GaussianBlur(invs,ksize=(15,15),sigmaX=0,sigmaY=0)\n",
    "gaus=px.imshow(gauss,color_continuous_scale='gray')\n",
    "gaus.update_xaxes(showticklabels=False).update_yaxes(showticklabels=False)\n",
    "gaus.show()"
   ]
  },
  {
   "cell_type": "code",
   "execution_count": null,
   "metadata": {},
   "outputs": [],
   "source": [
    "#Obtaining the final sketch\n",
    "def dodgeV2(image,mask):\n",
    "    return cv2.divide(image,255-mask,scale=256)\n",
    "\n",
    "pencil_img = dodgeV2(grayscale,gauss)\n",
    "sketch=px.imshow(pencil_img,color_continuous_scale='gray')\n",
    "#sketch.update_layout(width=990, height=600 ,margin=dict(l=20, r=20, b=10, t=10))\n",
    "sketch.update_layout(coloraxis_showscale=False)\n",
    "sketch.update_xaxes(showticklabels=False).update_yaxes(showticklabels=False)\n",
    "sketch.show()"
   ]
  }
 ],
 "metadata": {
  "kernelspec": {
   "display_name": "Python 3.9.5 ('base')",
   "language": "python",
   "name": "python3"
  },
  "language_info": {
   "codemirror_mode": {
    "name": "ipython",
    "version": 3
   },
   "file_extension": ".py",
   "mimetype": "text/x-python",
   "name": "python",
   "nbconvert_exporter": "python",
   "pygments_lexer": "ipython3",
   "version": "3.9.5"
  },
  "orig_nbformat": 4,
  "vscode": {
   "interpreter": {
    "hash": "3d597f4c481aa0f25dceb95d2a0067e73c0966dcbd003d741d821a7208527ecf"
   }
  }
 },
 "nbformat": 4,
 "nbformat_minor": 2
}
